{
  "nbformat": 4,
  "nbformat_minor": 0,
  "metadata": {
    "colab": {
      "name": "IDS Assignment 02.ipynb",
      "provenance": []
    },
    "kernelspec": {
      "name": "python3",
      "display_name": "Python 3"
    },
    "language_info": {
      "name": "python"
    }
  },
  "cells": [
    {
      "cell_type": "markdown",
      "metadata": {
        "id": "bFdcYH3eGsoB"
      },
      "source": [
        "# Introduction to Data Science \n",
        "## Assignment 02\n",
        "### Mahnoor Fatima Saad - FA17-BSE-064\n"
      ]
    },
    {
      "cell_type": "markdown",
      "metadata": {
        "id": "pGciLVPQswnw"
      },
      "source": [
        "Mouting G-Drive to load dataset"
      ]
    },
    {
      "cell_type": "code",
      "metadata": {
        "colab": {
          "base_uri": "https://localhost:8080/"
        },
        "id": "oxR7VMyvros8",
        "outputId": "14828457-aa0e-42ca-a63f-f92a17295240"
      },
      "source": [
        "from google.colab import drive\n",
        "drive.mount('/content/drive')"
      ],
      "execution_count": null,
      "outputs": [
        {
          "output_type": "stream",
          "text": [
            "Drive already mounted at /content/drive; to attempt to forcibly remount, call drive.mount(\"/content/drive\", force_remount=True).\n"
          ],
          "name": "stdout"
        }
      ]
    },
    {
      "cell_type": "markdown",
      "metadata": {
        "id": "SnT18pIGvB6U"
      },
      "source": [
        "Performing imports for the notebook "
      ]
    },
    {
      "cell_type": "code",
      "metadata": {
        "id": "RGWi5mCtu-xf"
      },
      "source": [
        "import numpy as np\n",
        "import pandas as pd\n",
        "from sklearn.model_selection import train_test_split\n",
        "import matplotlib.pyplot as plt\n",
        "from sklearn.linear_model import LinearRegression\n"
      ],
      "execution_count": null,
      "outputs": []
    },
    {
      "cell_type": "markdown",
      "metadata": {
        "id": "3sHNCEFLvezj"
      },
      "source": [
        "Importing and normalizing data from the csv file into numpy arrays for later manipulation"
      ]
    },
    {
      "cell_type": "code",
      "metadata": {
        "colab": {
          "base_uri": "https://localhost:8080/"
        },
        "id": "9XdQocnMvdAj",
        "outputId": "41f5b37d-f010-4c68-f03f-bca84a362922"
      },
      "source": [
        "path = '/content/drive/MyDrive/IDS/data_CHEMBL204.csv'\n",
        "#getting list of columns\n",
        "cols = list(pd.read_csv(path, nrows =1))\n",
        "#storing arrays of labels and features separately using column headers\n",
        "X = pd.read_csv(path, usecols =[i for i in cols if (i != 'molecule_id' and i != 'pXC50')])\n",
        "Y = pd.read_csv(path, usecols = ['pXC50'])\n",
        "print(X)\n",
        "print(Y)\n"
      ],
      "execution_count": null,
      "outputs": [
        {
          "output_type": "stream",
          "text": [
            "      b0001  b0002  b0003  b0004  b0005  ...  b1020  b1021  b1022  b1023  b1024\n",
            "0         1      1      1      0      1  ...      0      1      0      0      0\n",
            "1         1      1      1      1      1  ...      0      1      0      0      0\n",
            "2         1      1      1      1      1  ...      0      0      0      0      0\n",
            "3         1      1      1      0      1  ...      0      0      0      0      0\n",
            "4         1      1      1      1      1  ...      0      0      0      0      0\n",
            "...     ...    ...    ...    ...    ...  ...    ...    ...    ...    ...    ...\n",
            "5737      1      0      1      0      1  ...      0      0      0      0      0\n",
            "5738      1      0      1      0      1  ...      0      0      0      0      0\n",
            "5739      1      1      1      1      1  ...      0      1      0      0      1\n",
            "5740      1      0      1      1      1  ...      0      0      0      0      1\n",
            "5741      1      0      1      1      1  ...      0      0      0      0      0\n",
            "\n",
            "[5742 rows x 1024 columns]\n",
            "      pXC50\n",
            "0     5.000\n",
            "1     5.000\n",
            "2     9.620\n",
            "3     6.522\n",
            "4     7.796\n",
            "...     ...\n",
            "5737  5.538\n",
            "5738  8.222\n",
            "5739  6.174\n",
            "5740  7.119\n",
            "5741  4.509\n",
            "\n",
            "[5742 rows x 1 columns]\n"
          ],
          "name": "stdout"
        }
      ]
    },
    {
      "cell_type": "markdown",
      "metadata": {
        "id": "l7MWinmuzYII"
      },
      "source": [
        "Converting pd data frames to numpy arrays"
      ]
    },
    {
      "cell_type": "code",
      "metadata": {
        "colab": {
          "base_uri": "https://localhost:8080/"
        },
        "id": "QS23AvMkzcNg",
        "outputId": "1c77f18e-245e-4158-edb6-87ffd3393fc3"
      },
      "source": [
        "#converting into numpy arrays\n",
        "x = np.asarray(X)\n",
        "y = np.asarray(Y)\n",
        "print(x)"
      ],
      "execution_count": null,
      "outputs": [
        {
          "output_type": "stream",
          "text": [
            "[[1 1 1 ... 0 0 0]\n",
            " [1 1 1 ... 0 0 0]\n",
            " [1 1 1 ... 0 0 0]\n",
            " ...\n",
            " [1 1 1 ... 0 0 1]\n",
            " [1 0 1 ... 0 0 1]\n",
            " [1 0 1 ... 0 0 0]]\n"
          ],
          "name": "stdout"
        }
      ]
    },
    {
      "cell_type": "markdown",
      "metadata": {
        "id": "XtmpRDrfz__J"
      },
      "source": [
        "Splitting data into train and test sets"
      ]
    },
    {
      "cell_type": "code",
      "metadata": {
        "id": "YRXntYu5zlSk"
      },
      "source": [
        "#performing train and test split with a 0.75:0.25 ratio\n",
        "X_train, X_test, y_train, y_test = train_test_split(x, y, test_size=0.25)"
      ],
      "execution_count": null,
      "outputs": []
    },
    {
      "cell_type": "markdown",
      "metadata": {
        "id": "ynYKLoaf0DnX"
      },
      "source": [
        "using sklearn's linear regression model "
      ]
    },
    {
      "cell_type": "code",
      "metadata": {
        "colab": {
          "base_uri": "https://localhost:8080/"
        },
        "id": "6vMOkk3r0DNV",
        "outputId": "f62cd8a3-54f4-4d1f-da6d-5543e6a319e2"
      },
      "source": [
        "#creating linear regression object via sklearn\n",
        "linearRegressor = LinearRegression()\n",
        "#fitting the linear regression model to our data\n",
        "linearRegressor.fit(X_train, y_train)\n",
        "print('Accuracy Score: ', linearRegressor.score(X_train, y_train))\n",
        "#predicting test data on our linear regressor\n",
        "y_pred = linearRegressor.predict(X_test)"
      ],
      "execution_count": null,
      "outputs": [
        {
          "output_type": "stream",
          "text": [
            "Accuracy Score:  0.7699674806751446\n"
          ],
          "name": "stdout"
        }
      ]
    },
    {
      "cell_type": "markdown",
      "metadata": {
        "id": "RKqF7GHK3jYs"
      },
      "source": [
        "Analyzing our model's performance using sklearn's regression metrics"
      ]
    },
    {
      "cell_type": "code",
      "metadata": {
        "colab": {
          "base_uri": "https://localhost:8080/"
        },
        "id": "y8FFR8Qp0mSm",
        "outputId": "695780eb-f2bf-4d3a-c397-78043eb10d25"
      },
      "source": [
        "# sklearn metrics to analyze regression\n",
        "from sklearn import metrics\n",
        "print('Mean Absolute Error:', metrics.mean_absolute_error(y_test, y_pred))\n",
        "print('Mean Squared Error:', metrics.mean_squared_error(y_test, y_pred))\n",
        "print('Root Mean Squared Error:', np.sqrt(metrics.mean_squared_error(y_test, y_pred)))\n",
        "print(f\"The R_square of prediction of (RF): {metrics.r2_score(y_test, y_pred)}\")"
      ],
      "execution_count": null,
      "outputs": [
        {
          "output_type": "stream",
          "text": [
            "Mean Absolute Error: 310735337.57796055\n",
            "Mean Squared Error: 1.1642347329564151e+20\n",
            "Root Mean Squared Error: 10789970958.980452\n",
            "The R_square of prediction of (RF): -5.2119243469929914e+19\n"
          ],
          "name": "stdout"
        }
      ]
    },
    {
      "cell_type": "markdown",
      "metadata": {
        "id": "6KLpZ4Vv3_Os"
      },
      "source": [
        "Using train test split with logistic regression"
      ]
    },
    {
      "cell_type": "code",
      "metadata": {
        "colab": {
          "base_uri": "https://localhost:8080/"
        },
        "id": "tBQGD1YV8Tsf",
        "outputId": "51575e10-db99-4c74-ba7b-138a40bb261f"
      },
      "source": [
        "# converting the continuous labels in y_test and y_train into discrete values for logistic regression\n",
        "from sklearn import preprocessing\n",
        "from sklearn import utils\n",
        "\n",
        "# creating a label encoder object\n",
        "lab_enc = preprocessing.LabelEncoder()\n",
        "\n",
        "# converting y_train and y_test into a 1D array\n",
        "y_train = np.ravel(y_train)\n",
        "y_test = np.ravel(y_test)\n",
        "\n",
        "# encoding y_test and y_train labels\n",
        "y_train = lab_enc.fit_transform(y_train)\n",
        "y_test = lab_enc.fit_transform(y_test)\n",
        "\n",
        "#checking the type of labels we have created\n",
        "print('y_train label type: ', utils.multiclass.type_of_target(y_train))\n",
        "print('y_test label type: ', utils.multiclass.type_of_target(y_test))"
      ],
      "execution_count": null,
      "outputs": [
        {
          "output_type": "stream",
          "text": [
            "y_train label type:  multiclass\n",
            "y_test label type:  multiclass\n"
          ],
          "name": "stdout"
        }
      ]
    },
    {
      "cell_type": "code",
      "metadata": {
        "colab": {
          "base_uri": "https://localhost:8080/"
        },
        "id": "2ULNeKGs4lEU",
        "outputId": "ac16c5ed-8cfc-4047-899b-4d9b7bf70e4e"
      },
      "source": [
        "# creating the logistic regression model object \n",
        "from sklearn.linear_model import LogisticRegression\n",
        "logisticRegressor = LogisticRegression(random_state=0)\n",
        "\n",
        "# fitting the model with training data and labels\n",
        "logisticRegressor.fit(X_train, y_train)\n",
        "\n",
        "#predicting on test data\n",
        "y_pred=logisticRegressor.predict(X_test)"
      ],
      "execution_count": null,
      "outputs": [
        {
          "output_type": "stream",
          "text": [
            "/usr/local/lib/python3.7/dist-packages/sklearn/linear_model/_logistic.py:940: ConvergenceWarning: lbfgs failed to converge (status=1):\n",
            "STOP: TOTAL NO. of ITERATIONS REACHED LIMIT.\n",
            "\n",
            "Increase the number of iterations (max_iter) or scale the data as shown in:\n",
            "    https://scikit-learn.org/stable/modules/preprocessing.html\n",
            "Please also refer to the documentation for alternative solver options:\n",
            "    https://scikit-learn.org/stable/modules/linear_model.html#logistic-regression\n",
            "  extra_warning_msg=_LOGISTIC_SOLVER_CONVERGENCE_MSG)\n"
          ],
          "name": "stderr"
        }
      ]
    },
    {
      "cell_type": "code",
      "metadata": {
        "colab": {
          "base_uri": "https://localhost:8080/"
        },
        "id": "3WcSmRbj942n",
        "outputId": "3ed5d029-1037-4d1e-fe78-2b66c8361e7a"
      },
      "source": [
        "# determining model accuracy score on training data \n",
        "\n",
        "score = logisticRegressor.score(X_train,y_train)\n",
        "print('Training Accuracy Score: ',score)\n",
        "\n",
        "# Model accuracy on test set \n",
        "\n",
        "print('Model Accuracy: ',metrics.accuracy_score(y_test, y_pred)*100)"
      ],
      "execution_count": null,
      "outputs": [
        {
          "output_type": "stream",
          "text": [
            "Training Accuracy Score:  0.8917789131444496\n",
            "Model Accuracy:  0.06963788300835655\n"
          ],
          "name": "stdout"
        }
      ]
    },
    {
      "cell_type": "code",
      "metadata": {
        "colab": {
          "base_uri": "https://localhost:8080/"
        },
        "id": "100aNDJvC6Et",
        "outputId": "fa04b4ba-429d-4917-e393-385215e8c65a"
      },
      "source": [
        "# using sklearn metrics to analyze regression\n",
        "from sklearn import metrics\n",
        "print('Mean Absolute Error:', metrics.mean_absolute_error(y_test, y_pred))\n",
        "print('Mean Squared Error:', metrics.mean_squared_error(y_test, y_pred))\n",
        "print('Root Mean Squared Error:', np.sqrt(metrics.mean_squared_error(y_test, y_pred)))\n",
        "print(f\"The R_square of prediction of (RF): {metrics.r2_score(y_test, y_pred)}\")"
      ],
      "execution_count": null,
      "outputs": [
        {
          "output_type": "stream",
          "text": [
            "Mean Absolute Error: 270.5041782729805\n",
            "Mean Squared Error: 116494.78272980501\n",
            "Root Mean Squared Error: 341.313320469338\n",
            "The R_square of prediction of (RF): -2.7255029484002002\n"
          ],
          "name": "stdout"
        }
      ]
    }
  ]
}